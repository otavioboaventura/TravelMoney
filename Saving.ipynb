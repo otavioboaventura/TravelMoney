{
 "cells": [
  {
   "cell_type": "code",
   "execution_count": 4,
   "metadata": {
    "collapsed": false
   },
   "outputs": [
    {
     "name": "stdout",
     "output_type": "stream",
     "text": [
      "Função exponencial\n",
      "\n",
      " Mes atual: 1 \n",
      " Guardar esse mês: 10 \n",
      " Total: 10 \n",
      "\n",
      "\n",
      " Mes atual: 2 \n",
      " Guardar esse mês: 20 \n",
      " Total: 30 \n",
      "\n",
      "\n",
      " Mes atual: 3 \n",
      " Guardar esse mês: 40 \n",
      " Total: 70 \n",
      "\n",
      "\n",
      " Mes atual: 4 \n",
      " Guardar esse mês: 80 \n",
      " Total: 150 \n",
      "\n",
      "\n",
      " Mes atual: 5 \n",
      " Guardar esse mês: 160 \n",
      " Total: 310 \n",
      "\n",
      "\n",
      " Mes atual: 6 \n",
      " Guardar esse mês: 320 \n",
      " Total: 630 \n",
      "\n",
      "\n",
      "--------------------------------------------------\n",
      "Função linear\n",
      "\n",
      " Mes atual: 1 \n",
      " Guardar esse mês: 10 \n",
      " Total: 10 \n",
      "\n",
      "\n",
      " Mes atual: 2 \n",
      " Guardar esse mês: 14 \n",
      " Total: 24 \n",
      "\n",
      "\n",
      " Mes atual: 3 \n",
      " Guardar esse mês: 18 \n",
      " Total: 42 \n",
      "\n",
      "\n",
      " Mes atual: 4 \n",
      " Guardar esse mês: 22 \n",
      " Total: 64 \n",
      "\n",
      "\n",
      " Mes atual: 5 \n",
      " Guardar esse mês: 26 \n",
      " Total: 90 \n",
      "\n",
      "\n",
      " Mes atual: 6 \n",
      " Guardar esse mês: 30 \n",
      " Total: 120 \n",
      "\n",
      "\n",
      "--------------------------------------------------\n",
      "Função logarítmica\n",
      "\n",
      " Mes atual: 1 \n",
      " Guardar esse mês: 10 \n",
      " Total: 10 \n",
      "\n",
      "\n",
      " Mes atual: 2 \n",
      " Guardar esse mês: 37 \n",
      " Total: 47 \n",
      "\n",
      "\n",
      " Mes atual: 3 \n",
      " Guardar esse mês: 45 \n",
      " Total: 92 \n",
      "\n",
      "\n",
      " Mes atual: 4 \n",
      " Guardar esse mês: 50 \n",
      " Total: 142 \n",
      "\n",
      "\n",
      " Mes atual: 5 \n",
      " Guardar esse mês: 53 \n",
      " Total: 195 \n",
      "\n",
      "\n",
      " Mes atual: 6 \n",
      " Guardar esse mês: 56 \n",
      " Total: 251 \n",
      "\n",
      "\n"
     ]
    }
   ],
   "source": [
    "# Esquemas de economizar dinheiro\n",
    "\n",
    "# Começa-se com um inicial e dobra-se a cada mês (função exponencial)\n",
    "meses = 6\n",
    "inicial = 10 # reais\n",
    "\n",
    "# Iniciando variáveis\n",
    "mes_atual = inicial\n",
    "mes = 1\n",
    "total = inicial\n",
    "total_parcial_exp = [total]\n",
    "mensal_exp = [inicial]\n",
    "\n",
    "print(\"Função exponencial\\n\")\n",
    "print(\" Mes atual:\",mes,\"\\n Guardar esse mês:\",mes_atual, \"\\n Total:\", total,\"\\n\\n\")\n",
    "\n",
    "for i in range(1,meses):\n",
    "    mes_passado = mes_atual\n",
    "    mes_atual = mes_passado*2\n",
    "    total = total + mes_atual\n",
    "    total_parcial_exp.append(total)\n",
    "    mensal_exp.append(mes_atual)\n",
    "    mes = mes + 1\n",
    "    print(\" Mes atual:\",mes,\"\\n Guardar esse mês:\",mes_atual, \"\\n Total:\", total,\"\\n\\n\")\n",
    "print('-'*50)\n",
    "\n",
    "# Função linear\n",
    "mes_atual = inicial\n",
    "mes = 1\n",
    "total = inicial\n",
    "total_parcial_lin = [total]\n",
    "mensal_lin = [inicial]\n",
    "\n",
    "print(\"Função linear\\n\")\n",
    "print(\" Mes atual:\",mes,\"\\n Guardar esse mês:\",mes_atual, \"\\n Total:\", total,\"\\n\\n\")\n",
    "\n",
    "for i in range(1,meses):\n",
    "    mes_atual = 4*mes + 10 \n",
    "    total = total + mes_atual\n",
    "    total_parcial_lin.append(total)\n",
    "    mensal_lin.append(mes_atual)\n",
    "    mes = mes + 1\n",
    "    print(\" Mes atual:\",mes,\"\\n Guardar esse mês:\",mes_atual, \"\\n Total:\", total,\"\\n\\n\")\n",
    "print('-'*50)\n",
    "\n",
    "# Função logarítimica\n",
    "import math as math\n",
    "mes_atual = inicial\n",
    "mensal_log = [inicial]\n",
    "mes = 1\n",
    "total = inicial\n",
    "total_parcial_log = [total]\n",
    "\n",
    "print(\"Função logarítmica\\n\")\n",
    "print(\" Mes atual:\",mes,\"\\n Guardar esse mês:\",mes_atual, \"\\n Total:\", total,\"\\n\\n\")\n",
    "\n",
    "for i in range(1,meses):\n",
    "    mes_atual = math.ceil(math.log(mes*10,1.09) + inicial )\n",
    "    total = total + mes_atual\n",
    "    total_parcial_log.append(total)\n",
    "    mensal_log.append(mes_atual)\n",
    "    mes = mes + 1\n",
    "    print(\" Mes atual:\",mes,\"\\n Guardar esse mês:\",mes_atual, \"\\n Total:\", total,\"\\n\\n\")\n",
    "\n"
   ]
  },
  {
   "cell_type": "code",
   "execution_count": 16,
   "metadata": {
    "collapsed": false
   },
   "outputs": [
    {
     "data": {
      "image/png": "[encoded data removed]",
      "text/plain": [
       "<matplotlib.figure.Figure at 0x1d43bfdf5f8>"
      ]
     },
     "metadata": {},
     "output_type": "display_data"
    }
   ],
   "source": [
    "# Comparação do dinheiro acumulado ao final\n",
    "import matplotlib.pyplot as plt\n",
    "plt.plot(range(1,meses+1),total_parcial_lin,range(1,meses+1),total_parcial_exp,range(1,meses+1),total_parcial_log)\n",
    "\n",
    "plt.savefig('graficos.png')\n",
    "plt.show()\n"
   ]
  },
  {
   "cell_type": "code",
   "execution_count": 5,
   "metadata": {
    "collapsed": false
   },
   "outputs": [
    {
     "data": {
      "image/png": "[encoded data removed]",
      "text/plain": [
       "<matplotlib.figure.Figure at 0x1f4f05d3908>"
      ]
     },
     "metadata": {},
     "output_type": "display_data"
    }
   ],
   "source": [
    "import matplotlib.pyplot as plt\n",
    "plt.plot(range(1,meses+1),mensal_log,range(1,meses+1), mensal_lin, range(1,meses+1), mensal_exp)\n",
    "#plt.savefig('log.png')\n",
    "plt.show()"
   ]
  },
  {
   "cell_type": "code",
   "execution_count": null,
   "metadata": {
    "collapsed": false
   },
   "outputs": [],
   "source": [
    "print(total_parcial,range(1,12+1))"
   ]
  },
  {
   "cell_type": "code",
   "execution_count": null,
   "metadata": {
    "collapsed": false
   },
   "outputs": [],
   "source": [
    "meses"
   ]
  },
  {
   "cell_type": "code",
   "execution_count": null,
   "metadata": {
    "collapsed": true
   },
   "outputs": [],
   "source": []
  }
 ],
 "metadata": {
  "kernelspec": {
   "display_name": "Python 3",
   "language": "python",
   "name": "python3"
  },
  "language_info": {
   "codemirror_mode": {
    "name": "ipython",
    "version": 3
   },
   "file_extension": ".py",
   "mimetype": "text/x-python",
   "name": "python",
   "nbconvert_exporter": "python",
   "pygments_lexer": "ipython3",
   "version": "3.6.0"
  }
 },
 "nbformat": 4,
 "nbformat_minor": 2
}
